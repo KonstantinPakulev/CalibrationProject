{
 "cells": [
  {
   "cell_type": "code",
   "execution_count": 1,
   "metadata": {},
   "outputs": [],
   "source": [
    "%load_ext autoreload\n",
    "%autoreload 2"
   ]
  },
  {
   "cell_type": "markdown",
   "metadata": {},
   "source": [
    "# Camera-Depth calibration\n",
    "Second version, only interesting the last part con Camera lidar calibration"
   ]
  },
  {
   "cell_type": "code",
   "execution_count": 12,
   "metadata": {},
   "outputs": [],
   "source": [
    "# import mrob\n",
    "import numpy as np\n",
    "import open3d as o3d"
   ]
  },
  {
   "cell_type": "code",
   "execution_count": 3,
   "metadata": {},
   "outputs": [],
   "source": [
    "pnp_results = np.load('calib_output/pnp_results.npy', allow_pickle=True).item()"
   ]
  },
  {
   "cell_type": "code",
   "execution_count": 6,
   "metadata": {},
   "outputs": [],
   "source": [
    "item = pnp_results[list(pnp_results.keys())[1]] # Elements are ordered by an image name\n",
    "T = item[0] # Transformation of points from uniform grid on chessboard space to camera space\n",
    "t_scene_points = item[1] # Points from uniform grid on chessboard tranformed by applying T, i.e. T @ p"
   ]
  },
  {
   "cell_type": "code",
   "execution_count": 5,
   "metadata": {},
   "outputs": [],
   "source": [
    "# pi = mrob.registration.estimate_plane(t_scene_points[0])\n",
    "# print(pi)"
   ]
  },
  {
   "cell_type": "code",
   "execution_count": 11,
   "metadata": {},
   "outputs": [
    {
     "name": "stdout",
     "output_type": "stream",
     "text": [
      "106\n"
     ]
    }
   ],
   "source": [
    "x = o3d.geometry.PointCloud()\n",
    "x.points = o3d.utility.Vector3dVector(t_scene_points)\n",
    "#o3d.visualization.draw_geometries([x])\n",
    "print(len(pnp_results))"
   ]
  },
  {
   "cell_type": "markdown",
   "metadata": {},
   "source": [
    "# load pcd from velodyne"
   ]
  },
  {
   "cell_type": "markdown",
   "metadata": {},
   "source": [
    "# Segment PC belonging to the plane"
   ]
  },
  {
   "cell_type": "markdown",
   "metadata": {},
   "source": [
    "# Camera to Lidar calibration"
   ]
  },
  {
   "cell_type": "code",
   "execution_count": 22,
   "metadata": {},
   "outputs": [],
   "source": [
    "import mrob\n",
    "#initialization\n",
    "N = 100 # len(pnp_results)\n",
    "graph = mrob.FGraph()\n",
    "W = np.array([1])\n",
    "n1 = graph.add_node_pose_3d(mrob.geometry.SE3())"
   ]
  },
  {
   "cell_type": "code",
   "execution_count": 23,
   "metadata": {},
   "outputs": [
    {
     "name": "stdout",
     "output_type": "stream",
     "text": [
      "[[ 9.98223192e-01 -2.59456367e-02  5.36403106e-02 -5.49411637e-02]\n",
      " [ 2.59418229e-02  9.99663160e-01  7.67481528e-04  1.55760996e-02]\n",
      " [-5.36421552e-02  6.25409578e-04  9.98560027e-01  1.58697725e-02]\n",
      " [ 0.00000000e+00  0.00000000e+00  0.00000000e+00  1.00000000e+00]]\n"
     ]
    }
   ],
   "source": [
    "for n in range(N):\n",
    "    #load PnP\n",
    "    item = pnp_results[list(pnp_results.keys())[n]]\n",
    "    Y = item[1] #point cloud\n",
    "    normal = mrob.registration.estimate_normal(X)\n",
    "    #Y_center = mrob.registration.estimate_centroid(X)\n",
    "    #print(normal)\n",
    "    \n",
    "    #load pcd\n",
    "    item = pnp_results[list(pnp_results.keys())[n]]\n",
    "    X = item[1] #centroid of \n",
    "    N_points = Y.shape[0]\n",
    "    \n",
    "    #create factors\n",
    "    for i in range(N_points):\n",
    "        graph.add_factor_1pose_point2plane(z_point_x = X[i],\n",
    "                                       z_point_y = Y[i], #Y_center if it is not working well\n",
    "                                       z_normal_y = normal,\n",
    "                                       nodePoseId = n1,\n",
    "                                       obsInf = W)\n",
    "# solve the problem\n",
    "graph.solve(mrob.LM)\n",
    "result = graph.get_estimated_state()\n",
    "print(result[0])\n",
    "\n",
    "\n"
   ]
  },
  {
   "cell_type": "code",
   "execution_count": 24,
   "metadata": {},
   "outputs": [],
   "source": [
    "# test visually\n",
    "pcx = o3d.geometry.PointCloud()\n",
    "pcx.points= o3d.utility.Vector3dVector(X)\n",
    "pcy = o3d.geometry.PointCloud()\n",
    "pcy.points= o3d.utility.Vector3dVector(Y)\n",
    "pcx.transform(result[0])\n",
    "o3d.visualization.draw_geometries([pcx,pcy])"
   ]
  },
  {
   "cell_type": "code",
   "execution_count": null,
   "metadata": {},
   "outputs": [],
   "source": []
  }
 ],
 "metadata": {
  "kernelspec": {
   "display_name": "Python 3",
   "language": "python",
   "name": "python3"
  },
  "language_info": {
   "codemirror_mode": {
    "name": "ipython",
    "version": 3
   },
   "file_extension": ".py",
   "mimetype": "text/x-python",
   "name": "python",
   "nbconvert_exporter": "python",
   "pygments_lexer": "ipython3",
   "version": "3.6.9"
  }
 },
 "nbformat": 4,
 "nbformat_minor": 4
}
