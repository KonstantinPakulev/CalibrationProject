{
 "cells": [
  {
   "cell_type": "code",
   "execution_count": 1,
   "metadata": {},
   "outputs": [],
   "source": [
    "%run __init__.py\n",
    "%load_ext autoreload\n",
    "%autoreload 2"
   ]
  },
  {
   "cell_type": "code",
   "execution_count": 2,
   "metadata": {},
   "outputs": [],
   "source": [
    "import numpy as np\n",
    "import open3d as o3d"
   ]
  },
  {
   "cell_type": "code",
   "execution_count": 3,
   "metadata": {},
   "outputs": [],
   "source": [
    "pnp_results = np.load('../calib_output/pnp_results.npy', allow_pickle=True).item()"
   ]
  },
  {
   "cell_type": "code",
   "execution_count": 4,
   "metadata": {},
   "outputs": [],
   "source": [
    "r_pointclouds = np.load('../calib_output/r_pcd.npy', allow_pickle=True).item()"
   ]
  },
  {
   "cell_type": "code",
   "execution_count": 11,
   "metadata": {},
   "outputs": [
    {
     "name": "stdout",
     "output_type": "stream",
     "text": [
      "[[ 0.99127092  0.00252416  0.13181648 -0.01185215]\n",
      " [ 0.00531094  0.99824066 -0.0590541  -0.10442502]\n",
      " [-0.13173363  0.05923868  0.98951353  1.28062433]\n",
      " [ 0.          0.          0.          1.        ]]\n",
      "(48, 3)\n",
      "(21730, 3)\n"
     ]
    }
   ],
   "source": [
    "for key in pnp_results.keys():\n",
    "    print(pnp_results[key][0]) # PnP transformation T: chessboard -> camera\n",
    "    print(pnp_results[key][1].shape) # Transformed keypoints from chessboard: T @ kp_chessboard\n",
    "    print(r_pointclouds[key].shape) # Segmented chessboard from Azure\n",
    "    break"
   ]
  },
  {
   "cell_type": "code",
   "execution_count": null,
   "metadata": {},
   "outputs": [],
   "source": []
  },
  {
   "cell_type": "code",
   "execution_count": null,
   "metadata": {},
   "outputs": [],
   "source": [
    "# pi = mrob.registration.estimate_plane(t_scene_points[0])\n",
    "# print(pi)"
   ]
  },
  {
   "cell_type": "code",
   "execution_count": null,
   "metadata": {},
   "outputs": [],
   "source": [
    "x = o3d.geometry.PointCloud()\n",
    "x.points = o3d.utility.Vector3dVector(t_scene_points)\n",
    "#o3d.visualization.draw_geometries([x])\n",
    "print(len(pnp_results))"
   ]
  },
  {
   "cell_type": "code",
   "execution_count": 22,
   "metadata": {},
   "outputs": [],
   "source": [
    "import mrob\n",
    "#initialization\n",
    "N = 100 # len(pnp_results)\n",
    "graph = mrob.FGraph()\n",
    "W = np.array([1])\n",
    "n1 = graph.add_node_pose_3d(mrob.geometry.SE3())"
   ]
  },
  {
   "cell_type": "code",
   "execution_count": null,
   "metadata": {},
   "outputs": [],
   "source": [
    "for n in range(N):\n",
    "    #load PnP\n",
    "    item = pnp_results[list(pnp_results.keys())[n]]\n",
    "    Y = item[1] #point cloud\n",
    "    normal = mrob.registration.estimate_normal(X)\n",
    "    #Y_center = mrob.registration.estimate_centroid(X)\n",
    "    #print(normal)\n",
    "    \n",
    "    #load pcd\n",
    "    item = pnp_results[list(pnp_results.keys())[n]]\n",
    "    X = item[1] #centroid of \n",
    "    N_points = Y.shape[0]\n",
    "    \n",
    "    #create factors\n",
    "    for i in range(N_points):\n",
    "        graph.add_factor_1pose_point2plane(z_point_x = X[i],\n",
    "                                       z_point_y = Y[i], #Y_center if it is not working well\n",
    "                                       z_normal_y = normal,\n",
    "                                       nodePoseId = n1,\n",
    "                                       obsInf = W)\n",
    "# solve the problem\n",
    "graph.solve(mrob.LM)\n",
    "result = graph.get_estimated_state()\n",
    "print(result[0])"
   ]
  },
  {
   "cell_type": "code",
   "execution_count": 7,
   "metadata": {},
   "outputs": [],
   "source": [
    "# test visually\n",
    "pcx = o3d.geometry.PointCloud()\n",
    "pcx.points= o3d.utility.Vector3dVector(X)\n",
    "pcy = o3d.geometry.PointCloud()\n",
    "pcy.points= o3d.utility.Vector3dVector(Y)\n",
    "pcx.transform(result[0])\n",
    "o3d.visualization.draw_geometries([pcx,pcy])"
   ]
  },
  {
   "cell_type": "code",
   "execution_count": null,
   "metadata": {},
   "outputs": [],
   "source": []
  }
 ],
 "metadata": {
  "kernelspec": {
   "display_name": "Python 3",
   "language": "python",
   "name": "python3"
  },
  "language_info": {
   "codemirror_mode": {
    "name": "ipython",
    "version": 3
   },
   "file_extension": ".py",
   "mimetype": "text/x-python",
   "name": "python",
   "nbconvert_exporter": "python",
   "pygments_lexer": "ipython3",
   "version": "3.6.9"
  }
 },
 "nbformat": 4,
 "nbformat_minor": 4
}
