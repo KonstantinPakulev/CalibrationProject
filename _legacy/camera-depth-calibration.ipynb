{
 "cells": [
  {
   "cell_type": "code",
   "execution_count": 1,
   "metadata": {},
   "outputs": [],
   "source": [
    "%run __init__.py\n",
    "%load_ext autoreload\n",
    "%autoreload 2"
   ]
  },
  {
   "cell_type": "code",
   "execution_count": 2,
   "metadata": {},
   "outputs": [],
   "source": [
    "import numpy as np\n",
    "import open3d as o3d"
   ]
  },
  {
   "cell_type": "code",
   "execution_count": 3,
   "metadata": {},
   "outputs": [],
   "source": [
    "pnp_results = np.load('/home/konstantin/personal/CalibrationProject/calib_output/r_pnp_results.npy', allow_pickle=True).item()"
   ]
  },
  {
   "cell_type": "code",
   "execution_count": 4,
   "metadata": {},
   "outputs": [],
   "source": [
    "r_pointclouds = np.load('/home/konstantin/personal/CalibrationProject/calib_output/r_pcd.npy', allow_pickle=True).item()"
   ]
  },
  {
   "cell_type": "code",
   "execution_count": 5,
   "metadata": {},
   "outputs": [],
   "source": [
    "# del pnp_results[list(pnp_results.keys())[77]]"
   ]
  },
  {
   "cell_type": "code",
   "execution_count": 6,
   "metadata": {},
   "outputs": [],
   "source": [
    "# del r_pointclouds[list(r_pointclouds.keys())[77]]"
   ]
  },
  {
   "cell_type": "code",
   "execution_count": 7,
   "metadata": {},
   "outputs": [
    {
     "name": "stdout",
     "output_type": "stream",
     "text": [
      "118\n"
     ]
    }
   ],
   "source": [
    "print(len(pnp_results))"
   ]
  },
  {
   "cell_type": "code",
   "execution_count": 8,
   "metadata": {},
   "outputs": [
    {
     "name": "stdout",
     "output_type": "stream",
     "text": [
      "118\n"
     ]
    }
   ],
   "source": [
    "print(len(r_pointclouds))"
   ]
  },
  {
   "cell_type": "code",
   "execution_count": 11,
   "metadata": {},
   "outputs": [],
   "source": [
    "np.save('../calib_output/r_pnp_results.npy', pnp_results)\n",
    "np.save('../calib_output/r_pcd.npy', r_pointclouds)"
   ]
  },
  {
   "cell_type": "code",
   "execution_count": 9,
   "metadata": {},
   "outputs": [
    {
     "data": {
      "text/plain": [
       "118"
      ]
     },
     "execution_count": 9,
     "metadata": {},
     "output_type": "execute_result"
    }
   ],
   "source": [
    "sum([i == j for i,j in zip(list(pnp_results.keys()), list(r_pointclouds.keys()))])"
   ]
  },
  {
   "cell_type": "code",
   "execution_count": 11,
   "metadata": {},
   "outputs": [
    {
     "name": "stdout",
     "output_type": "stream",
     "text": [
      "2012475554907\n",
      "[[ 0.99127092  0.00252416  0.13181648 -0.01185215]\n",
      " [ 0.00531094  0.99824066 -0.0590541  -0.10442502]\n",
      " [-0.13173363  0.05923868  0.98951353  1.28062433]\n",
      " [ 0.          0.          0.          1.        ]]\n",
      "(48, 3)\n",
      "(21730, 3)\n"
     ]
    }
   ],
   "source": [
    "for key in pnp_results.keys():\n",
    "    print(key)\n",
    "    print(pnp_results[key][0]) # PnP transformation T: chessboard -> camera\n",
    "    print(pnp_results[key][1].shape) # Transformed keypoints from chessboard: T @ kp_chessboard\n",
    "    print(r_pointclouds[key].shape) # Segmented chessboard from Azure\n",
    "    break"
   ]
  },
  {
   "cell_type": "code",
   "execution_count": 28,
   "metadata": {},
   "outputs": [],
   "source": [
    "import mrob"
   ]
  },
  {
   "cell_type": "code",
   "execution_count": 296,
   "metadata": {
    "scrolled": true
   },
   "outputs": [
    {
     "name": "stdout",
     "output_type": "stream",
     "text": [
      "Nan detected\n",
      "Nan detected\n",
      "Nan detected\n"
     ]
    }
   ],
   "source": [
    "#initialization\n",
    "graph = mrob.FGraph()\n",
    "W = np.array([1])\n",
    "n1 = graph.add_node_pose_3d(mrob.geometry.SE3())\n",
    "j=0\n",
    "for key in pnp_results.keys():\n",
    "    #decimate\n",
    "    j=j+1\n",
    "    if j%5!=0:\n",
    "        continue\n",
    "    pnp_chessboard_points = pnp_results[key][1]\n",
    "    \n",
    "    plane_pointcloud = r_pointclouds[key]\n",
    "    \n",
    "    plane_centroid = mrob.registration.estimate_centroid(plane_pointcloud)\n",
    "    plane_normal = mrob.registration.estimate_normal(plane_pointcloud)\n",
    "    #print(key, plane_centroid, plane_normal)\n",
    "    \n",
    "    if np.isnan(plane_centroid).any():\n",
    "        print('Nan detected')\n",
    "        #print(plane_pointcloud) # some are empty\n",
    "        continue\n",
    "    \n",
    "    for i, p in enumerate(pnp_chessboard_points):\n",
    "        if np.isnan(p).any():\n",
    "            print('PnP Nan detected')\n",
    "            continue\n",
    "        graph.add_factor_1pose_point2plane(z_point_x = p,\n",
    "                                           z_point_y = plane_centroid,\n",
    "                                           z_normal_y = plane_normal,\n",
    "                                           nodePoseId = n1,\n",
    "                                           obsInf = W)\n",
    "        \n",
    "\n",
    "# solve the problem\n",
    "graph.print(False)"
   ]
  },
  {
   "cell_type": "code",
   "execution_count": 297,
   "metadata": {},
   "outputs": [
    {
     "name": "stdout",
     "output_type": "stream",
     "text": [
      "From Smartphone to Azure [[ 0.99728918 -0.00370076 -0.07348877  0.2270376 ]\n",
      " [-0.00479579  0.99334178 -0.11510475 -0.02529519]\n",
      " [ 0.07342544  0.11514515  0.99063126 -0.04095365]\n",
      " [ 0.          0.          0.          1.        ]]\n",
      "inverse [[ 0.99728918 -0.00479579  0.07342544 -0.22353641]\n",
      " [-0.00370076  0.99334178  0.11514515  0.03068259]\n",
      " [-0.07348877 -0.11510475  0.99063126  0.05434308]\n",
      " [ 0.          0.          0.          1.        ]]\n"
     ]
    }
   ],
   "source": [
    "graph.solve(mrob.GN)\n",
    "result = graph.get_estimated_state()\n",
    "print('From Smartphone to Azure', result[0])\n",
    "print('inverse', mrob.geometry.SE3(result[0]).inv().T())\n",
    "#graph.print(True)"
   ]
  },
  {
   "cell_type": "code",
   "execution_count": 313,
   "metadata": {},
   "outputs": [],
   "source": [
    "#initialization\n",
    "g2 = mrob.FGraph()\n",
    "W = np.array([1])\n",
    "n1 = g2.add_node_pose_3d(mrob.geometry.SE3())\n",
    "j=0\n",
    "for key in pnp_results.keys():\n",
    "    #decimate\n",
    "    j=j+1\n",
    "    if j%6!=0:\n",
    "        continue\n",
    "    pnp_chessboard_points = pnp_results[key][1]\n",
    "    \n",
    "    plane_pointcloud = r_pointclouds[key]\n",
    "    \n",
    "    plane_centroid = mrob.registration.estimate_centroid(pnp_chessboard_points)\n",
    "    plane_normal = mrob.registration.estimate_normal(pnp_chessboard_points)\n",
    "    #print(key, plane_centroid, plane_normal)\n",
    "    \n",
    "    if np.isnan(plane_centroid).any():\n",
    "        print('Nan detected')\n",
    "        #print(plane_pointcloud) # some are empty\n",
    "        continue\n",
    "    \n",
    "    for i, p in enumerate(plane_pointcloud):\n",
    "        if np.isnan(p).any():\n",
    "            print('Azure Nan detected')\n",
    "            continue\n",
    "        if i%100==0:\n",
    "            g2.add_factor_1pose_point2plane(z_point_x = p,\n",
    "                                           z_point_y = plane_centroid,\n",
    "                                           z_normal_y = plane_normal,\n",
    "                                           nodePoseId = n1,\n",
    "                                           obsInf = W)\n",
    "        \n",
    "\n",
    "# solve the problem\n",
    "g2.print(False)"
   ]
  },
  {
   "cell_type": "code",
   "execution_count": 314,
   "metadata": {},
   "outputs": [
    {
     "name": "stdout",
     "output_type": "stream",
     "text": [
      "From Azure to smartphone x100\n",
      " [[ 0.99696023 -0.00161908  0.07789527 -0.22216648]\n",
      " [-0.00699509  0.99388632  0.11018646  0.03609844]\n",
      " [-0.07759745 -0.1103964   0.99085381  0.0517138 ]\n",
      " [ 0.          0.          0.          1.        ]]\n"
     ]
    }
   ],
   "source": [
    "g2.solve(mrob.LM,10)\n",
    "result = g2.get_estimated_state()\n",
    "print('From Azure to smartphone x100\\n', result[0])\n",
    "#graph.print(True)"
   ]
  },
  {
   "cell_type": "code",
   "execution_count": 7,
   "metadata": {},
   "outputs": [],
   "source": [
    "# x = o3d.geometry.PointCloud()\n",
    "# x.points = o3d.utility.Vector3dVector(t_scene_points)\n",
    "# #o3d.visualization.draw_geometries([x])\n",
    "# print(len(pnp_results))"
   ]
  },
  {
   "cell_type": "code",
   "execution_count": 6,
   "metadata": {},
   "outputs": [],
   "source": [
    "# pi = mrob.registration.estimate_plane(t_scene_points[0])\n",
    "# print(pi)"
   ]
  },
  {
   "cell_type": "code",
   "execution_count": 309,
   "metadata": {},
   "outputs": [],
   "source": [
    "# test visually\n",
    "for key in pnp_results.keys():\n",
    "    Y = pnp_results[key][1]\n",
    "    X = r_pointclouds[key]\n",
    "    pcx = o3d.geometry.PointCloud()\n",
    "    pcx.points= o3d.utility.Vector3dVector(X)\n",
    "    pcy = o3d.geometry.PointCloud()\n",
    "    pcy.points= o3d.utility.Vector3dVector(Y)\n",
    "    pcx.transform(result[0])\n",
    "    o3d.visualization.draw_geometries([pcx,pcy])"
   ]
  }
 ],
 "metadata": {
  "kernelspec": {
   "display_name": "Python 3",
   "language": "python",
   "name": "python3"
  },
  "language_info": {
   "codemirror_mode": {
    "name": "ipython",
    "version": 3
   },
   "file_extension": ".py",
   "mimetype": "text/x-python",
   "name": "python",
   "nbconvert_exporter": "python",
   "pygments_lexer": "ipython3",
   "version": "3.7.9"
  }
 },
 "nbformat": 4,
 "nbformat_minor": 4
}
