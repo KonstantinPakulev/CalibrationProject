{
 "cells": [
  {
   "cell_type": "code",
   "execution_count": 6,
   "metadata": {},
   "outputs": [
    {
     "name": "stdout",
     "output_type": "stream",
     "text": [
      "The autoreload extension is already loaded. To reload it, use:\n",
      "  %reload_ext autoreload\n"
     ]
    }
   ],
   "source": [
    "%run __init__.py\n",
    "%load_ext autoreload\n",
    "%autoreload 2"
   ]
  },
  {
   "cell_type": "code",
   "execution_count": 7,
   "metadata": {},
   "outputs": [],
   "source": [
    "import numpy as np"
   ]
  },
  {
   "cell_type": "code",
   "execution_count": 8,
   "metadata": {},
   "outputs": [],
   "source": [
    "# Hardcoded intrinsics and dist_coeffs\n",
    "\n",
    "intrinsics = np.array([[503.9581604003906, 0.0, 325.4591064453125],\n",
    "                       [0.0, 504.0079345703125, 340.33404541015625],\n",
    "                       [0.0, 0.0, 1.0]])\n",
    "dist_coeff = np.array([5.268435478210449, 3.5621509552001953, -6.14773682627856e-07, -4.438921678229235e-05, 0.1832902431488037, 5.597447872161865, 5.32110071182251, 0.9697896838188171])"
   ]
  },
  {
   "cell_type": "code",
   "execution_count": 9,
   "metadata": {},
   "outputs": [],
   "source": [
    "from utils.io_utils import get_depth, pointcloudify_depths\n",
    "\n",
    "\n",
    "# Load depth\n",
    "data_path = \"/home/konstantin/datasets/bandeja-sequence/2021_02_17/2021-02-17-16-11-22_people/_azure_depth_image_raw\"\n",
    "depths = get_depth(data_path, period=160)\n",
    "\n",
    "# Pointcloudify it\n",
    "pointclouds = pointcloudify_depths(depths, intrinsics, dist_coeff)"
   ]
  },
  {
   "cell_type": "code",
   "execution_count": 10,
   "metadata": {},
   "outputs": [
    {
     "data": {
      "text/plain": [
       "{'2258854136289.npy': array([[-0., -0.,  0.],\n",
       "        [-0., -0.,  0.],\n",
       "        [-0., -0.,  0.],\n",
       "        ...,\n",
       "        [ 0.,  0.,  0.],\n",
       "        [ 0.,  0.,  0.],\n",
       "        [ 0.,  0.,  0.]]),\n",
       " '2290854136289.npy': array([[-0., -0.,  0.],\n",
       "        [-0., -0.,  0.],\n",
       "        [-0., -0.,  0.],\n",
       "        ...,\n",
       "        [ 0.,  0.,  0.],\n",
       "        [ 0.,  0.,  0.],\n",
       "        [ 0.,  0.,  0.]])}"
      ]
     },
     "execution_count": 10,
     "metadata": {},
     "output_type": "execute_result"
    }
   ],
   "source": [
    "pointclouds"
   ]
  },
  {
   "cell_type": "code",
   "execution_count": null,
   "metadata": {},
   "outputs": [],
   "source": []
  }
 ],
 "metadata": {
  "kernelspec": {
   "display_name": "Python 3",
   "language": "python",
   "name": "python3"
  },
  "language_info": {
   "codemirror_mode": {
    "name": "ipython",
    "version": 3
   },
   "file_extension": ".py",
   "mimetype": "text/x-python",
   "name": "python",
   "nbconvert_exporter": "python",
   "pygments_lexer": "ipython3",
   "version": "3.6.9"
  }
 },
 "nbformat": 4,
 "nbformat_minor": 4
}
