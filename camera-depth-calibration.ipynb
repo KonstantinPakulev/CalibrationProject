{
 "cells": [
  {
   "cell_type": "code",
   "execution_count": 17,
   "metadata": {},
   "outputs": [
    {
     "name": "stdout",
     "output_type": "stream",
     "text": [
      "The autoreload extension is already loaded. To reload it, use:\n",
      "  %reload_ext autoreload\n"
     ]
    }
   ],
   "source": [
    "%load_ext autoreload\n",
    "%autoreload 2"
   ]
  },
  {
   "cell_type": "markdown",
   "metadata": {},
   "source": [
    "# Camera-Depth calibration"
   ]
  },
  {
   "cell_type": "code",
   "execution_count": 18,
   "metadata": {},
   "outputs": [],
   "source": [
    "# import mrob\n",
    "import numpy as np\n",
    "import open3d as o3d\n",
    "import matplotlib.pyplot as plt"
   ]
  },
  {
   "cell_type": "code",
   "execution_count": 19,
   "metadata": {},
   "outputs": [],
   "source": [
    "pnp_results = np.load('calib_output/pnp_results.npy', allow_pickle=True).item()"
   ]
  },
  {
   "cell_type": "code",
   "execution_count": 20,
   "metadata": {},
   "outputs": [],
   "source": [
    "item = pnp_results[list(pnp_results.keys())[0]] # Elements are ordered by an image name\n",
    "T = item[0] # Transformation of points from uniform grid on chessboard space to camera space\n",
    "t_scene_points = item[1] # Points from uniform grid on chessboard tranformed by applying T, i.e. T @ p"
   ]
  },
  {
   "cell_type": "code",
   "execution_count": 21,
   "metadata": {},
   "outputs": [],
   "source": [
    "# pi = mrob.registration.estimate_plane(t_scene_points[0])\n",
    "# print(pi)"
   ]
  },
  {
   "cell_type": "markdown",
   "metadata": {},
   "source": [
    "# load pcd from velodyne"
   ]
  },
  {
   "cell_type": "code",
   "execution_count": 22,
   "metadata": {},
   "outputs": [],
   "source": [
    "# Hardcoded intrinsics and dist_coeffs\n",
    "\n",
    "intrinsics = np.array([[503.9581604003906, 0.0, 325.4591064453125],\n",
    "                       [0.0, 504.0079345703125, 340.33404541015625],\n",
    "                       [0.0, 0.0, 1.0]])\n",
    "dist_coeff = np.array([5.268435478210449, 3.5621509552001953, -6.14773682627856e-07, -4.438921678229235e-05, 0.1832902431488037, 5.597447872161865, 5.32110071182251, 0.9697896838188171])\n",
    "\n",
    "# path = \"/home/konstantin/personal/CalibrationProject/calib_output/azure_intrinsics.npy\"\n",
    "# data = np.load(path, allow_pickle=True).item()\n",
    "\n",
    "# intrinsics = data['intrinsics']\n",
    "# dist_coeff = data['dist_coeff']"
   ]
  },
  {
   "cell_type": "code",
   "execution_count": 23,
   "metadata": {},
   "outputs": [],
   "source": [
    "from utils.io_utils import get_pointclouds, get_depth, pointcloudify_depths\n",
    "\n",
    "\n",
    "# To load depth and pointcloudify it\n",
    "data_path = \"/home/konstantin/datasets/bandeja-sequence/2021_02_01_2/2021-02-01-16-17-42/_azure_depth_image_raw\"\n",
    "depths = get_depth(data_path, period=160)\n",
    "\n",
    "pointclouds = pointcloudify_depths(depths, intrinsics, dist_coeff)\n",
    "\n",
    "# To load velodyne\n",
    "# data_path = \"/home/konstantin/datasets/bandeja-sequence/2021_02_01_2/2021-02-01-16-17-42/_velodyne_velodyne_points\"\n",
    "# pointclouds = get_pointclouds(data_path, period=4)\n"
   ]
  },
  {
   "cell_type": "code",
   "execution_count": 24,
   "metadata": {},
   "outputs": [],
   "source": [
    "np.save('calib_output/check.npy', pointclouds)"
   ]
  },
  {
   "cell_type": "code",
   "execution_count": 25,
   "metadata": {},
   "outputs": [
    {
     "data": {
      "text/plain": [
       "4"
      ]
     },
     "execution_count": 25,
     "metadata": {},
     "output_type": "execute_result"
    }
   ],
   "source": [
    "len(pointclouds)"
   ]
  },
  {
   "cell_type": "code",
   "execution_count": 26,
   "metadata": {},
   "outputs": [],
   "source": [
    "# A sample for visualization\n",
    "\n",
    "# def to_open3d_pcd(pcd):\n",
    "#     o3d_pcd = open3d.geometry.PointCloud()\n",
    "#     o3d_pcd.points = open3d.utility.Vector3dVector(pcd)\n",
    "    \n",
    "#     return o3d_pcd\n",
    "# open3d.visualization.draw_geometries([to_open3d_pcd(pcd[list(pcd.keys())[-10]])])\n",
    "\n",
    "\n",
    "# pcd = o3d.geometry.PointCloud()\n",
    "# pcd.points = o3d.utility.Vector3dVector(segmented_plane[0])\n",
    "# o3d.visualization.draw_geometries([pcd])\n",
    "# visualizer = JVisualizer()\n",
    "# visualizer.add_geometry(pcd)\n",
    "# visualizer.show()"
   ]
  },
  {
   "cell_type": "markdown",
   "metadata": {},
   "source": [
    "# Segment PC belonging to the plane"
   ]
  },
  {
   "cell_type": "code",
   "execution_count": 7,
   "metadata": {},
   "outputs": [],
   "source": [
    "from utils.segment_utils import filter_pointclouds\n",
    "\n",
    "fpointclouds = filter_pointclouds(pointclouds, (0.0, -1.0, 0.0), (2.5, 1.0, 3.0))"
   ]
  },
  {
   "cell_type": "code",
   "execution_count": null,
   "metadata": {},
   "outputs": [],
   "source": [
    "from utils.segment_utils import segment_pointclouds\n",
    "\n",
    "s_pointclouds = segment_pointclouds(fpointclouds)"
   ]
  },
  {
   "cell_type": "code",
   "execution_count": 1,
   "metadata": {},
   "outputs": [],
   "source": [
    "# np.save('calib_output/check.npy', s_pointclouds)"
   ]
  },
  {
   "cell_type": "markdown",
   "metadata": {},
   "source": [
    "# Camera to Lidar calibration"
   ]
  },
  {
   "cell_type": "code",
   "execution_count": null,
   "metadata": {},
   "outputs": [],
   "source": []
  }
 ],
 "metadata": {
  "kernelspec": {
   "display_name": "Python 3",
   "language": "python",
   "name": "python3"
  },
  "language_info": {
   "codemirror_mode": {
    "name": "ipython",
    "version": 3
   },
   "file_extension": ".py",
   "mimetype": "text/x-python",
   "name": "python",
   "nbconvert_exporter": "python",
   "pygments_lexer": "ipython3",
   "version": "3.6.9"
  }
 },
 "nbformat": 4,
 "nbformat_minor": 4
}
